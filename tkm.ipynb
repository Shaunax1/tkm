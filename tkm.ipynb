{
  "cells": [
    {
      "cell_type": "code",
      "execution_count": 14,
      "metadata": {
        "id": "5lLCrridMjSE"
      },
      "outputs": [],
      "source": [
        "import random"
      ]
    },
    {
      "cell_type": "code",
      "execution_count": 62,
      "metadata": {
        "id": "Nq7sldyHM7zJ"
      },
      "outputs": [],
      "source": [
        "def tas_kagit_makas_Eyüp_Kavak():\n",
        "  print(\"Taş,Kağıt,Makas Oyununa Hoşgeldiniz\")\n",
        "  print(\"Oyun 3 turdan oluşur. İlk iki turu kazanan oyunu kazanır.\")\n",
        "  print(\"Oyundan çıkmak için 'e' tuşuna basınız.\")\n",
        "\n",
        "  tkm = [\"taş\",\"kağıt\",\"makas\"]\n",
        "\n",
        "  while True:\n",
        "      player1_score = 0\n",
        "      player2_score = 0\n",
        "      round_counter = 0\n",
        "\n",
        "      while player1_score < 2 and player2_score < 2:\n",
        "          player1_choice = input(\"Lütfen taş, kağıt veya makas seçin: \").lower()\n",
        "\n",
        "          if player1_choice == 'e':\n",
        "                print(\"Oyundan çıkılıyor...\")\n",
        "                return\n",
        "\n",
        "          if player1_choice not in tkm:\n",
        "                print(\"Listede olmayan bir değer girdiniz, tekrar deneyin.\")\n",
        "                continue\n",
        "\n",
        "          player2_choice = random.choice(tkm)\n",
        "          print(f\"Bilgisayarın Seçimi : {player2_choice}\")\n",
        "\n",
        "          if player1_choice == player2_choice:\n",
        "            print(\"İkinizde aynı değeri seçtiniz\")\n",
        "\n",
        "          elif player1_choice == \"taş\" and player2_choice == \"makas\":\n",
        "            print(\"Kazanan Oyuncu\")\n",
        "            player1_score +=1\n",
        "\n",
        "          elif player1_choice == \"kağıt\" and player2_choice == \"taş\":\n",
        "            print(\"Kazanan Oyuncu\")\n",
        "            player1_score +=1\n",
        "\n",
        "          elif player1_choice == \"makas\" and player2_choice == \"kağıt\":\n",
        "            print(\"Bu turun kazananı oyuncu\")\n",
        "            player1_score +=1\n",
        "\n",
        "          else:\n",
        "            print(\"Bu turun kazananı bilgisayar\")\n",
        "            player2_score +=1\n",
        "\n",
        "          round_counter +=1\n",
        "          print(f\"Tur : {round_counter} Oyuncu : {player1_score} - Bilgisayar : {player2_score}\")\n",
        "\n",
        "      if player1_score == 2:\n",
        "            print(\"Tebrikler, oyunu kazandınız!\")\n",
        "      else:\n",
        "            print(\"Bilgisayar oyunu kazandı!\")\n",
        "\n",
        "\n",
        "      player1_NewGame = input(\"Başka bir oyun oynamak ister misiniz? evet/hayır: \").lower()\n",
        "      if player1_NewGame != 'evet':\n",
        "          print(\"Oyundan çıkılıyor...\")\n",
        "          break\n",
        "\n",
        "      player2_NewGame = random.choice(['evet', 'hayır'])\n",
        "      print(f\"Bilgisayar başka bir oyun oynamak istiyor mu? {player2_NewGame}\")\n",
        "      if player2_NewGame != 'evet':\n",
        "          print(\"Bilgisayar oyunu sonlandırmak istedi. Oyundan çıkılıyor...\")\n",
        "          break\n",
        "      \n",
        "\n",
        "\n"
      ]
    },
    {
      "cell_type": "code",
      "execution_count": 64,
      "metadata": {
        "colab": {
          "base_uri": "https://localhost:8080/"
        },
        "id": "ELeir8i3neRW",
        "outputId": "e451df64-fce5-45de-ebdd-1df67dde142f"
      },
      "outputs": [
        {
          "name": "stdout",
          "output_type": "stream",
          "text": [
            "Taş,Kağıt,Makas Oyununa Hoşgeldiniz\n",
            "Oyun 3 turdan oluşur. İlk iki turu kazanan oyunu kazanır.\n",
            "Oyundan çıkmak için 'e' tuşuna basınız.\n",
            "Lütfen taş, kağıt veya makas seçin: taş\n",
            "Bilgisayarın Seçimi : makas\n",
            "Kazanan Oyuncu\n",
            "Tur : 1 Oyuncu : 1 - Bilgisayar : 0\n",
            "Lütfen taş, kağıt veya makas seçin: makas\n",
            "Bilgisayarın Seçimi : taş\n",
            "Bu turun kazananı bilgisayar\n",
            "Tur : 2 Oyuncu : 1 - Bilgisayar : 1\n",
            "Lütfen taş, kağıt veya makas seçin: makas\n",
            "Bilgisayarın Seçimi : makas\n",
            "İkinizde aynı değeri seçtiniz\n",
            "Tur : 3 Oyuncu : 1 - Bilgisayar : 1\n",
            "Lütfen taş, kağıt veya makas seçin: makas\n",
            "Bilgisayarın Seçimi : makas\n",
            "İkinizde aynı değeri seçtiniz\n",
            "Tur : 4 Oyuncu : 1 - Bilgisayar : 1\n",
            "Lütfen taş, kağıt veya makas seçin: makas\n",
            "Bilgisayarın Seçimi : makas\n",
            "İkinizde aynı değeri seçtiniz\n",
            "Tur : 5 Oyuncu : 1 - Bilgisayar : 1\n",
            "Lütfen taş, kağıt veya makas seçin: makas\n",
            "Bilgisayarın Seçimi : makas\n",
            "İkinizde aynı değeri seçtiniz\n",
            "Tur : 6 Oyuncu : 1 - Bilgisayar : 1\n",
            "Lütfen taş, kağıt veya makas seçin: makas\n",
            "Bilgisayarın Seçimi : kağıt\n",
            "Bu turun kazananı oyuncu\n",
            "Tur : 7 Oyuncu : 2 - Bilgisayar : 1\n",
            "Tebrikler, oyunu kazandınız!\n",
            "Başka bir oyun oynamak ister misiniz? evet/hayır: evet\n",
            "Bilgisayar başka bir oyun oynamak istiyor mu? evet\n",
            "Lütfen taş, kağıt veya makas seçin: taş\n",
            "Bilgisayarın Seçimi : kağıt\n",
            "Bu turun kazananı bilgisayar\n",
            "Tur : 1 Oyuncu : 0 - Bilgisayar : 1\n",
            "Lütfen taş, kağıt veya makas seçin: makas\n",
            "Bilgisayarın Seçimi : kağıt\n",
            "Bu turun kazananı oyuncu\n",
            "Tur : 2 Oyuncu : 1 - Bilgisayar : 1\n",
            "Lütfen taş, kağıt veya makas seçin: makas\n",
            "Bilgisayarın Seçimi : makas\n",
            "İkinizde aynı değeri seçtiniz\n",
            "Tur : 3 Oyuncu : 1 - Bilgisayar : 1\n",
            "Lütfen taş, kağıt veya makas seçin: makas\n",
            "Bilgisayarın Seçimi : kağıt\n",
            "Bu turun kazananı oyuncu\n",
            "Tur : 4 Oyuncu : 2 - Bilgisayar : 1\n",
            "Tebrikler, oyunu kazandınız!\n",
            "Başka bir oyun oynamak ister misiniz? evet/hayır: hayır\n",
            "Oyundan çıkılıyor...\n"
          ]
        }
      ],
      "source": [
        "tas_kagit_makas_Eyüp_Kavak()"
      ]
    }
  ],
  "metadata": {
    "colab": {
      "provenance": []
    },
    "kernelspec": {
      "display_name": "Python 3",
      "name": "python3"
    },
    "language_info": {
      "name": "python"
    }
  },
  "nbformat": 4,
  "nbformat_minor": 0
}
